{
 "cells": [
  {
   "cell_type": "code",
   "execution_count": 1,
   "metadata": {},
   "outputs": [],
   "source": [
    "%load_ext autoreload"
   ]
  },
  {
   "cell_type": "code",
   "execution_count": 2,
   "metadata": {},
   "outputs": [],
   "source": [
    "%autoreload 2"
   ]
  },
  {
   "cell_type": "code",
   "execution_count": 3,
   "metadata": {},
   "outputs": [],
   "source": [
    "import torch\n",
    "from torch.utils.data import DataLoader, WeightedRandomSampler, TensorDataset\n",
    "from torchvision import transforms, datasets\n",
    "from torch import nn, optim\n",
    "from torch.autograd.variable import Variable\n",
    "\n",
    "from lib.VisdomWrapper import *\n",
    "from lib.GANs import *\n",
    "from lib.DataCreationWrapper import *\n",
    "from lib.DataManager import *\n",
    "\n",
    "import numpy as np\n",
    "import pandas as pd\n",
    "import time\n",
    "from datetime import datetime\n",
    "from IPython import display"
   ]
  },
  {
   "cell_type": "code",
   "execution_count": 4,
   "metadata": {},
   "outputs": [],
   "source": [
    "batch_size = 32\n",
    "class_weights = np.ones(10)\n",
    "VRAM = True\n",
    "\n",
    "data_loader = get_unbalanced_mnist(class_weights, batch_size=batch_size)\n",
    "\n",
    "if VRAM:\n",
    "    X, Y = data_loader_to_tensor(data_loader)\n",
    "    data_loader = DataLoader(TensorDataset(X, Y), batch_size=batch_size, shuffle=True)\n",
    "    X, Y = None, None\n",
    "\n",
    "n_samples = len(data_loader)\n",
    "n_classes = 10\n",
    "img_width = 28 #hardcoded\n",
    "n_features = img_width**2\n",
    "n_noise_features = 50 #don't change\n",
    "\n",
    "noise_maker = Noisifier(2)"
   ]
  },
  {
   "cell_type": "code",
   "execution_count": 5,
   "metadata": {},
   "outputs": [
    {
     "name": "stderr",
     "output_type": "stream",
     "text": [
      "Setting up a new session...\n"
     ]
    }
   ],
   "source": [
    "# Visualizer\n",
    "vis = VisdomController()"
   ]
  },
  {
   "cell_type": "code",
   "execution_count": 6,
   "metadata": {},
   "outputs": [],
   "source": [
    "loss_key = 0\n",
    "add_noise = True\n",
    "\n",
    "discr_nn = None\n",
    "gen_nn = None\n",
    "discr_optimizer = None\n",
    "gen_optimizer = None\n",
    "loss_function = None\n",
    "real_target = None\n",
    "fake_target = None\n",
    "if(loss_key == 0):\n",
    "    # Networks\n",
    "#     discr_nn = DiscriminatorNetwork(n_features, n_classes, loss_key)\n",
    "#     gen_nn = GeneratorNetwork(n_noise_features, n_features, n_classes)\n",
    "    discr_nn = Conv_DiscriminatorNetwork(n_features, n_classes, loss_key)\n",
    "    gen_nn = Conv_GeneratorNetwork(n_noise_features, n_features, n_classes)\n",
    "    \n",
    "    # Optimizers\n",
    "#     discr_optimizer = optim.Adam(discr_nn.parameters(), lr=1e-3)\n",
    "#     gen_optimizer = optim.Adam(gen_nn.parameters(), lr=1e-3)\n",
    "    discr_optimizer = optim.Adam(discr_nn.parameters(), lr=1e-4, weight_decay=1e-5)\n",
    "    gen_optimizer = optim.Adam(gen_nn.parameters(), lr=1e-4, weight_decay=1e-5)\n",
    "    \n",
    "    # Loss Function\n",
    "    loss_function = nn.BCELoss()\n",
    "    \n",
    "    reg_constant = 10\n",
    "    \n",
    "    # Targets\n",
    "    real_target = make_target(batch_size, 0.9)\n",
    "    fake_target = make_target(batch_size, 0.1)\n",
    "elif(loss_key == 1):\n",
    "    # Networks\n",
    "#     discr_nn = DiscriminatorNetwork(n_features, n_classes, loss_key)\n",
    "#     gen_nn = GeneratorNetwork(n_noise_features, n_features, n_classes)\n",
    "    discr_nn = Conv_DiscriminatorNetwork(n_features, n_classes, loss_key)\n",
    "    gen_nn = Conv_GeneratorNetwork(n_noise_features, n_features, n_classes)\n",
    "    \n",
    "    # Optimizers    \n",
    "#     discr_optimizer = optim.RMSprop(discr_nn.parameters(), lr=1e-5)\n",
    "#     gen_optimizer = optim.RMSprop(gen_nn.parameters(), lr=1e-5)\n",
    "    discr_optimizer = optim.Adam(discr_nn.parameters(), lr=1e-4, betas = (.9, .99), weight_decay=1e-5)\n",
    "    gen_optimizer = optim.Adam(gen_nn.parameters(), lr=1e-4, betas = (.9, .99), weight_decay=1e-5)\n",
    "    \n",
    "    # Loss Function\n",
    "    loss_function = wasserstein_loss\n",
    "    \n",
    "    reg_constant = 5\n",
    "    \n",
    "    # Targets\n",
    "    real_target = make_target(batch_size, -0.99)\n",
    "    fake_target = make_target(batch_size, 0.99)\n"
   ]
  },
  {
   "cell_type": "code",
   "execution_count": 7,
   "metadata": {},
   "outputs": [],
   "source": [
    "if torch.cuda.is_available():\n",
    "    discr_nn.cuda()\n",
    "    gen_nn.cuda()"
   ]
  },
  {
   "cell_type": "code",
   "execution_count": 8,
   "metadata": {},
   "outputs": [],
   "source": [
    "# Params\n",
    "num_epochs = 40\n",
    "noise_function = gaussian_noise\n",
    "num_scatter_points = 60\n",
    "class_to_mimic = 0\n",
    "\n",
    "# Visdom Initialization\n",
    "vis.ClearPlots()\n",
    "# avg_class_img = get_avg_img(data_loader, class_to_mimic, img_width)\n",
    "# vis.vis.image(avg_class_img)\n",
    "# formatted_data_sample = get_sample(data_loader, num_scatter_points, class_to_mimic, 100, 500)\n",
    "# vis.PlotRealFeatureDistributionComparison(295, 515, formatted_data_sample, num_scatter_points)\n",
    "# cov_real = pd.DataFrame(formatted_data_sample.numpy()).corr().fillna(1).to_numpy()\n",
    "# vis.PlotHeatMap(cov_real, \"real_vs_fake_cov_map\", True)"
   ]
  },
  {
   "cell_type": "code",
   "execution_count": 9,
   "metadata": {},
   "outputs": [
    {
     "name": "stdout",
     "output_type": "stream",
     "text": [
      "Epoch 23, 1300 / 1875\n",
      "discr_loss :  tensor(0.6514, device='cuda:0', grad_fn=<AddBackward0>)\n",
      "gen_loss :  tensor(2.1081, device='cuda:0', grad_fn=<BinaryCrossEntropyBackward>)\n",
      "critic_loss :  tensor(1.4567, device='cuda:0', grad_fn=<AbsBackward>)\n",
      "Time Elapsed :  0.08301043510437012\n"
     ]
    },
    {
     "ename": "KeyboardInterrupt",
     "evalue": "",
     "output_type": "error",
     "traceback": [
      "\u001b[1;31m---------------------------------------------------------------------------\u001b[0m",
      "\u001b[1;31mKeyboardInterrupt\u001b[0m                         Traceback (most recent call last)",
      "\u001b[1;32m<ipython-input-9-d4ad985a5c0f>\u001b[0m in \u001b[0;36m<module>\u001b[1;34m\u001b[0m\n\u001b[0;32m     37\u001b[0m                                    \u001b[0mnoise_function\u001b[0m\u001b[1;33m,\u001b[0m\u001b[1;33m\u001b[0m\u001b[1;33m\u001b[0m\u001b[0m\n\u001b[0;32m     38\u001b[0m                                    \u001b[0mn_classes\u001b[0m\u001b[1;33m,\u001b[0m\u001b[1;33m\u001b[0m\u001b[1;33m\u001b[0m\u001b[0m\n\u001b[1;32m---> 39\u001b[1;33m                                    \u001b[0mreal_target\u001b[0m\u001b[1;33m\u001b[0m\u001b[1;33m\u001b[0m\u001b[0m\n\u001b[0m\u001b[0;32m     40\u001b[0m                                   )\n\u001b[0;32m     41\u001b[0m \u001b[1;33m\u001b[0m\u001b[0m\n",
      "\u001b[1;32m~\\Documents\\School\\F20\\682\\682-project\\GANDataGeneration\\lib\\GANs.py\u001b[0m in \u001b[0;36mtrain_generator\u001b[1;34m(gen_nn, gen_optimizer, loss, discr_nn, real_data, noise_function, n_classes, real_target)\u001b[0m\n\u001b[0;32m    340\u001b[0m \u001b[1;33m\u001b[0m\u001b[0m\n\u001b[0;32m    341\u001b[0m     \u001b[1;31m# Zero Grad\u001b[0m\u001b[1;33m\u001b[0m\u001b[1;33m\u001b[0m\u001b[1;33m\u001b[0m\u001b[0m\n\u001b[1;32m--> 342\u001b[1;33m     \u001b[0mgen_optimizer\u001b[0m\u001b[1;33m.\u001b[0m\u001b[0mzero_grad\u001b[0m\u001b[1;33m(\u001b[0m\u001b[1;33m)\u001b[0m\u001b[1;33m\u001b[0m\u001b[1;33m\u001b[0m\u001b[0m\n\u001b[0m\u001b[0;32m    343\u001b[0m \u001b[1;33m\u001b[0m\u001b[0m\n\u001b[0;32m    344\u001b[0m     \u001b[1;31m# Prediction On Fake Data\u001b[0m\u001b[1;33m\u001b[0m\u001b[1;33m\u001b[0m\u001b[1;33m\u001b[0m\u001b[0m\n",
      "\u001b[1;32m~\\Anaconda3\\lib\\site-packages\\torch\\optim\\optimizer.py\u001b[0m in \u001b[0;36mzero_grad\u001b[1;34m(self, set_to_none)\u001b[0m\n\u001b[0;32m    190\u001b[0m                         \u001b[1;32melse\u001b[0m\u001b[1;33m:\u001b[0m\u001b[1;33m\u001b[0m\u001b[1;33m\u001b[0m\u001b[0m\n\u001b[0;32m    191\u001b[0m                             \u001b[0mp\u001b[0m\u001b[1;33m.\u001b[0m\u001b[0mgrad\u001b[0m\u001b[1;33m.\u001b[0m\u001b[0mrequires_grad_\u001b[0m\u001b[1;33m(\u001b[0m\u001b[1;32mFalse\u001b[0m\u001b[1;33m)\u001b[0m\u001b[1;33m\u001b[0m\u001b[1;33m\u001b[0m\u001b[0m\n\u001b[1;32m--> 192\u001b[1;33m                         \u001b[0mp\u001b[0m\u001b[1;33m.\u001b[0m\u001b[0mgrad\u001b[0m\u001b[1;33m.\u001b[0m\u001b[0mzero_\u001b[0m\u001b[1;33m(\u001b[0m\u001b[1;33m)\u001b[0m\u001b[1;33m\u001b[0m\u001b[1;33m\u001b[0m\u001b[0m\n\u001b[0m\u001b[0;32m    193\u001b[0m \u001b[1;33m\u001b[0m\u001b[0m\n\u001b[0;32m    194\u001b[0m     \u001b[1;32mdef\u001b[0m \u001b[0mstep\u001b[0m\u001b[1;33m(\u001b[0m\u001b[0mself\u001b[0m\u001b[1;33m,\u001b[0m \u001b[0mclosure\u001b[0m\u001b[1;33m)\u001b[0m\u001b[1;33m:\u001b[0m\u001b[1;33m\u001b[0m\u001b[1;33m\u001b[0m\u001b[0m\n",
      "\u001b[1;31mKeyboardInterrupt\u001b[0m: "
     ]
    }
   ],
   "source": [
    "vis.ClearPlots()\n",
    "torch.manual_seed(2)\n",
    "for epoch in range(num_epochs):\n",
    "    for n_batch, (batch, labels) in enumerate(data_loader):\n",
    "        # Move to CUDA\n",
    "        if(add_noise):\n",
    "#             print(batch.shape)\n",
    "            batch = noise_maker.add_noise_random(batch.view(batch_size,-1), scale=.1).view(batch_size, 1, img_width, img_width)\n",
    "#             batch = noise_maker.add_noise_directed(batch.view(batch_size,-1), labels, scale=.1).view(batch_size, 1, img_width, img_width)\n",
    "        \n",
    "        real_batch = Variable(batch)\n",
    "        real_labels = Variable(labels)\n",
    "        if torch.cuda.is_available():\n",
    "            real_batch = real_batch.cuda()\n",
    "            real_labels = real_labels.cuda()\n",
    "            \n",
    "        t_start = millis = time.time()\n",
    "        batch_size = real_batch.size(0)\n",
    "        \n",
    "        discr_loss_real, discr_loss_fake, reg_loss = train_discriminator(discr_nn,\n",
    "                                                               discr_optimizer,\n",
    "                                                               loss_function,\n",
    "                                                               gen_nn,\n",
    "                                                               real_batch,\n",
    "                                                               noise_function,\n",
    "                                                               n_classes,\n",
    "                                                               real_labels,\n",
    "                                                               real_target,\n",
    "                                                               fake_target,\n",
    "                                                               loss_key,\n",
    "                                                               reg_constant\n",
    "                                                              )\n",
    "        gen_loss = train_generator(gen_nn,\n",
    "                                   gen_optimizer,\n",
    "                                   loss_function,\n",
    "                                   discr_nn, real_batch,\n",
    "                                   noise_function,\n",
    "                                   n_classes,\n",
    "                                   real_target\n",
    "                                  )\n",
    "        \n",
    "        if (n_batch % 100 == 0):\n",
    "            display.clear_output(True)\n",
    "            # Basic Data\n",
    "            discr_loss = discr_loss_real + discr_loss_fake + reg_loss\n",
    "            print(\"Epoch {}, {} / {}\".format(epoch, n_batch, len(data_loader)))\n",
    "            print(\"discr_loss : \", discr_loss)\n",
    "            print(\"gen_loss : \", gen_loss) \n",
    "            print(\"critic_loss : \", abs(gen_loss - discr_loss))\n",
    "            if(reg_loss != 0):\n",
    "                print(\"reg_loss : \", reg_loss)\n",
    "            \n",
    "            # Visualization            \n",
    "            vis.PlotLoss(\"Discr Loss Real\", discr_loss_real.item())\n",
    "            vis.PlotLoss(\"Discr Loss Fake\", discr_loss_fake.item())\n",
    "            vis.PlotLoss(\"Gen Loss\", gen_loss.item())\n",
    "            vis.loss_axis += 1\n",
    "            \n",
    "            t_end = millis = time.time()\n",
    "            print(\"Time Elapsed : \", t_end - t_start)\n",
    "    if epoch % 2 == 0:\n",
    "#         vis.PlotFakeFeatureDistributionComparison(295, 515, gen_nn, num_scatter_points, noise_function, class_to_mimic)\n",
    "\n",
    "#         cov_fake = pd.DataFrame(synthesize_data_from_label(gen_nn, num_scatter_points, noise_function, class_to_mimic).cpu().detach().numpy()).corr().fillna(1).to_numpy()\n",
    "    \n",
    "#         vis.PlotHeatMap(np.abs(cov_real - cov_fake), \"real_vs_fake_cov_map\", True)\n",
    "    \n",
    "        vis.ShowImages(format_to_image(synthesize_data_from_each_label(gen_nn, noise_function, n_classes).cpu().detach(), n_classes, img_width), \"Generated Data, Epoch \" + str(epoch))\n",
    "#         vis.ShowImages(get_visual_embeddings(discr_nn, n_classes).cpu().detach(), \"Embeddings, Epoch \" + str(epoch))"
   ]
  },
  {
   "cell_type": "code",
   "execution_count": 10,
   "metadata": {},
   "outputs": [],
   "source": [
    "current_time = datetime.now().strftime(\"%H-%M-%S\")\n",
    "weights_string = \",\".join([str(c_w) for c_w in class_weights])\n",
    "file_name = \"models\\gen_nn_\" + str(loss_key) + \"_\" + str(current_time)\n",
    "with open(file_name + \".txt\", \"w\") as f:\n",
    "    f.write(weights_string)\n",
    "    \n",
    "torch.save(gen_nn.state_dict(), file_name)"
   ]
  },
  {
   "cell_type": "code",
   "execution_count": 11,
   "metadata": {},
   "outputs": [],
   "source": [
    "def show_img_seed(seed):\n",
    "    torch.manual_seed(2)\n",
    "    torch.manual_seed(seed)\n",
    "    vis.ShowImages(format_to_image(synthesize_data_from_each_label(gen_nn, noise_function, n_classes).cpu().detach(), n_classes, img_width), \"Generated Data, Seeded\" + str(seed))\n"
   ]
  },
  {
   "cell_type": "code",
   "execution_count": 12,
   "metadata": {},
   "outputs": [],
   "source": [
    "show_img_seed(22)"
   ]
  },
  {
   "cell_type": "code",
   "execution_count": null,
   "metadata": {},
   "outputs": [],
   "source": []
  }
 ],
 "metadata": {
  "kernelspec": {
   "display_name": "Python 3",
   "language": "python",
   "name": "python3"
  },
  "language_info": {
   "codemirror_mode": {
    "name": "ipython",
    "version": 3
   },
   "file_extension": ".py",
   "mimetype": "text/x-python",
   "name": "python",
   "nbconvert_exporter": "python",
   "pygments_lexer": "ipython3",
   "version": "3.7.4"
  }
 },
 "nbformat": 4,
 "nbformat_minor": 4
}
