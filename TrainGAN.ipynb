{
 "cells": [
  {
   "cell_type": "code",
   "execution_count": 1,
   "metadata": {},
   "outputs": [],
   "source": [
    "%load_ext autoreload"
   ]
  },
  {
   "cell_type": "code",
   "execution_count": 2,
   "metadata": {},
   "outputs": [],
   "source": [
    "%autoreload 2"
   ]
  },
  {
   "cell_type": "code",
   "execution_count": 3,
   "metadata": {},
   "outputs": [],
   "source": [
    "import torch\n",
    "from torch.utils.data import DataLoader, WeightedRandomSampler\n",
    "from torchvision import transforms, datasets\n",
    "from torch import nn, optim\n",
    "from torch.autograd.variable import Variable\n",
    "\n",
    "from lib.VisdomWrapper import *\n",
    "from lib.GANs import *\n",
    "from lib.DataCreationWrapper import *\n",
    "from lib.DataManager import *\n",
    "\n",
    "import numpy as np\n",
    "import pandas as pd\n",
    "import time\n",
    "from IPython import display"
   ]
  },
  {
   "cell_type": "code",
   "execution_count": 4,
   "metadata": {},
   "outputs": [],
   "source": [
    "batch_size = 100\n",
    "data_loader = get_unbalanced_emnist(np.ones(10), batch_size=batch_size)\n",
    "n_samples = len(data_loader)\n",
    "img_width = 28\n",
    "n_features = img_width**2\n",
    "n_noise_features = 100"
   ]
  },
  {
   "cell_type": "code",
   "execution_count": 5,
   "metadata": {},
   "outputs": [],
   "source": [
    "discr_nn = DiscriminatorNetwork(n_features)\n",
    "gen_nn = GeneratorNetwork(n_noise_features, n_features)\n",
    "if torch.cuda.is_available():\n",
    "    discr_nn.cuda()\n",
    "    gen_nn.cuda()"
   ]
  },
  {
   "cell_type": "code",
   "execution_count": 6,
   "metadata": {},
   "outputs": [],
   "source": [
    "# Optimizers\n",
    "discr_optimizer = optim.Adam(discr_nn.parameters(), lr=1e-3, betas=(0.5, 0.999))\n",
    "gen_optimizer = optim.Adam(gen_nn.parameters(), lr=1e-3, betas=(0.5, 0.999))"
   ]
  },
  {
   "cell_type": "code",
   "execution_count": 7,
   "metadata": {},
   "outputs": [
    {
     "name": "stderr",
     "output_type": "stream",
     "text": [
      "Setting up a new session...\n"
     ]
    }
   ],
   "source": [
    "# Visualizer\n",
    "vis = VisdomController()"
   ]
  },
  {
   "cell_type": "code",
   "execution_count": 8,
   "metadata": {},
   "outputs": [],
   "source": [
    "# Params\n",
    "num_epochs = 10\n",
    "noise_function = gaussian_noise\n",
    "num_scatter_points = 60\n",
    "num_imgs_show = 5\n",
    "loss_function = nn.BCELoss() #WGan has it built into trainer, fix later?\n",
    "class_to_mimic = 1\n",
    "\n",
    "# Visdom Initialization\n",
    "vis.ClearPlots()\n",
    "avg_class_img = get_avg_img(data_loader, class_to_mimic, img_width)\n",
    "vis.vis.image(avg_class_img)\n",
    "formatted_data_sample = get_sample(data_loader, num_scatter_points, class_to_mimic, 100, 500)\n",
    "vis.PlotRealFeatureDistributionComparison(295, 515, formatted_data_sample, num_scatter_points)\n",
    "cov_real = pd.DataFrame(formatted_data_sample.numpy()).corr().fillna(1)\n",
    "# vis.PlotHeatMap(cov_real, \"real_vs_fake_cov_map\", True)"
   ]
  },
  {
   "cell_type": "code",
   "execution_count": 12,
   "metadata": {},
   "outputs": [
    {
     "name": "stdout",
     "output_type": "stream",
     "text": [
      "Epoch 9, 500 / 600\n",
      "discr_loss :  tensor(5.5603e-07, device='cuda:0', grad_fn=<AddBackward0>)\n",
      "gen_loss :  tensor(-3.9842e-06, device='cuda:0', grad_fn=<NegBackward>)\n",
      "critic_loss :  tensor(4.5402e-06, device='cuda:0', grad_fn=<AbsBackward>)\n",
      "Time Elapsed :  0.3390007019042969\n"
     ]
    }
   ],
   "source": [
    "vis.ClearPlots()\n",
    "for epoch in range(num_epochs):\n",
    "    for n_batch, (batch, labels) in enumerate(data_loader):\n",
    "        \n",
    "        # Move to CUDA      \n",
    "        real_batch = Variable(batch[labels == class_to_mimic])\n",
    "        if torch.cuda.is_available():\n",
    "            real_batch = real_batch.cuda()\n",
    "            \n",
    "        t_start = millis = time.time()\n",
    "        batch_size = real_batch.size(0)\n",
    "        \n",
    "        discr_loss_real, discr_loss_fake = train_discriminator_wass(discr_nn, discr_optimizer, loss_function, gen_nn, real_batch, noise_function)\n",
    "        gen_loss = train_generator_wass(gen_nn, gen_optimizer, loss_function, discr_nn, real_batch, noise_function)\n",
    "        \n",
    "        if (n_batch % 100 == 0):\n",
    "            display.clear_output(True)\n",
    "            # Basic Data\n",
    "            discr_loss = discr_loss_real + discr_loss_fake\n",
    "            print(\"Epoch {}, {} / {}\".format(epoch, n_batch, len(data_loader)))\n",
    "            print(\"discr_loss : \", discr_loss)\n",
    "            print(\"gen_loss : \", gen_loss) \n",
    "            print(\"critic_loss : \", abs(gen_loss - discr_loss))\n",
    "            \n",
    "            # Visualization            \n",
    "            vis.PlotLoss(\"Discr Loss Real\", discr_loss_real.item())\n",
    "            vis.PlotLoss(\"Discr Loss Fake\", discr_loss_fake.item())\n",
    "            vis.PlotLoss(\"Gen Loss\", gen_loss.item())\n",
    "            vis.loss_axis += 1\n",
    "            \n",
    "            t_end = millis = time.time()\n",
    "            print(\"Time Elapsed : \", t_end - t_start)     \n",
    "    vis.PlotFakeFeatureDistributionComparison(295, 515, gen_nn, num_scatter_points, noise_function)\n",
    "    cov_fake = pd.DataFrame(synthesize_data(gen_nn, num_scatter_points, noise_function).cpu().detach().numpy()).corr().fillna(1)\n",
    "    vis.PlotHeatMap(np.abs(cov_real - cov_fake), \"real_vs_fake_cov_map\", True)\n",
    "    vis.ShowImages(format_to_image(synthesize_data(gen_nn, num_imgs_show, noise_function).cpu().detach(), num_imgs_show, img_width), \"Epoch \" + str(epoch))\n",
    "\n",
    "# torch.save(gen_nn.state_dict(),\"models\\gen_nn\" + str(data_to_mimic))"
   ]
  },
  {
   "cell_type": "code",
   "execution_count": null,
   "metadata": {},
   "outputs": [],
   "source": []
  }
 ],
 "metadata": {
  "kernelspec": {
   "display_name": "Python 3",
   "language": "python",
   "name": "python3"
  },
  "language_info": {
   "codemirror_mode": {
    "name": "ipython",
    "version": 3
   },
   "file_extension": ".py",
   "mimetype": "text/x-python",
   "name": "python",
   "nbconvert_exporter": "python",
   "pygments_lexer": "ipython3",
   "version": "3.7.4"
  }
 },
 "nbformat": 4,
 "nbformat_minor": 4
}
