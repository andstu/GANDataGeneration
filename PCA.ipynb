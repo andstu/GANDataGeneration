{
 "cells": [
  {
   "cell_type": "code",
   "execution_count": 4,
   "metadata": {},
   "outputs": [
    {
     "name": "stdout",
     "output_type": "stream",
     "text": [
      "float64\n",
      "Loaded\n",
      "0\n",
      "1\n",
      "2\n",
      "3\n",
      "4\n",
      "5\n",
      "6\n",
      "7\n",
      "8\n",
      "9\n"
     ]
    }
   ],
   "source": [
    "from sklearn import preprocessing\n",
    "from sklearn.preprocessing import StandardScaler\n",
    "from sklearn.decomposition import PCA\n",
    "from IPython import display\n",
    "\n",
    "import torch\n",
    "import torch.nn as nn\n",
    "from torch.nn import init\n",
    "import torchvision\n",
    "import torchvision.transforms as T\n",
    "import torch.optim as optim\n",
    "from torch.utils.data import DataLoader, TensorDataset\n",
    "import torchvision.datasets as dset\n",
    "\n",
    "import numpy as np\n",
    "\n",
    "import time\n",
    "from visdom import Visdom\n",
    "\n",
    "from lib.VisdomWrapper import *\n",
    "from lib.DataManager import *\n",
    "from lib.GANs import *\n",
    "from lib.DataCreationWrapper import *\n",
    "\n",
    "mnist = dset.MNIST('input', train=True, download=True, transform=T.ToTensor())\n",
    "data_loader = DataLoader(mnist, batch_size=1000, shuffle=True)\n",
    "data, labels = data_loader_to_tensor(data_loader)\n",
    "data = data.view(len(labels), -1).cpu().numpy().astype('float64')\n",
    "\n",
    "print(data.dtype)\n",
    "\n",
    "labels = labels.cpu().numpy()\n",
    "\n",
    "print(\"Loaded\")\n",
    "\n",
    "folder = \"pca/\"\n",
    "for c in range(10):\n",
    "    print(c)\n",
    "    select_data = preprocessing.scale(data[labels == c, :])\n",
    "    select_data_std = StandardScaler().fit_transform(select_data)\n",
    "    pca = PCA()\n",
    "    pca.fit(select_data_std)\n",
    "    # print(pca.explained_variance_ratio_)\n",
    "    # print(pca.components_)\n",
    "    path = folder + str(c) + \".npy\"\n",
    "    with open(path, \"wb\") as f:\n",
    "        np.save(f, pca.components_)\n",
    "\n",
    "    path = folder + str(c) + \"_var\" + \".npy\"\n",
    "    with open(path, \"wb\") as f:\n",
    "        np.save(f, pca.explained_variance_ratio_)"
   ]
  }
 ],
 "metadata": {
  "kernelspec": {
   "display_name": "Python 3",
   "language": "python",
   "name": "python3"
  },
  "language_info": {
   "codemirror_mode": {
    "name": "ipython",
    "version": 3
   },
   "file_extension": ".py",
   "mimetype": "text/x-python",
   "name": "python",
   "nbconvert_exporter": "python",
   "pygments_lexer": "ipython3",
   "version": "3.7.4"
  }
 },
 "nbformat": 4,
 "nbformat_minor": 4
}
